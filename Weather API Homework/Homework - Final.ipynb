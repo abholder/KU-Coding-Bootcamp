{
 "cells": [
  {
   "cell_type": "code",
   "execution_count": 1,
   "metadata": {},
   "outputs": [],
   "source": [
    "# dependencies\n",
    "from config import api_key\n",
    "import pandas as pd\n",
    "import numpy as np\n",
    "from citipy import citipy\n",
    "import matplotlib.pyplot as plt\n",
    "import matplotlib\n",
    "import random\n",
    "import requests\n",
    "\n",
    "import time\n",
    "\n",
    "#for grid styling\n",
    "plt.style.use(\"seaborn\")\n"
   ]
  },
  {
   "cell_type": "code",
   "execution_count": 2,
   "metadata": {},
   "outputs": [],
   "source": [
    "# get lat/long zones\n",
    "lat_zone = np.arange(-90, 90, 10)\n",
    "long_zone = np.arange(-180, 180, 10)"
   ]
  },
  {
   "cell_type": "code",
   "execution_count": 3,
   "metadata": {},
   "outputs": [],
   "source": [
    "# new dataframe for coordinates\n",
    "cities_df = pd.DataFrame()\n",
    "\n",
    "cities_df[\"latitude\"] = \"\"\n",
    "cities_df[\"longitude\"] = \"\"\n"
   ]
  },
  {
   "cell_type": "code",
   "execution_count": null,
   "metadata": {},
   "outputs": [
    {
     "data": {
      "text/html": [
       "<div>\n",
       "<style scoped>\n",
       "    .dataframe tbody tr th:only-of-type {\n",
       "        vertical-align: middle;\n",
       "    }\n",
       "\n",
       "    .dataframe tbody tr th {\n",
       "        vertical-align: top;\n",
       "    }\n",
       "\n",
       "    .dataframe thead th {\n",
       "        text-align: right;\n",
       "    }\n",
       "</style>\n",
       "<table border=\"1\" class=\"dataframe\">\n",
       "  <thead>\n",
       "    <tr style=\"text-align: right;\">\n",
       "      <th></th>\n",
       "      <th>latitude</th>\n",
       "      <th>longitude</th>\n",
       "    </tr>\n",
       "  </thead>\n",
       "  <tbody>\n",
       "    <tr>\n",
       "      <th>0</th>\n",
       "      <td>-84.90</td>\n",
       "      <td>-169.81</td>\n",
       "    </tr>\n",
       "    <tr>\n",
       "      <th>1</th>\n",
       "      <td>-80.97</td>\n",
       "      <td>-166.70</td>\n",
       "    </tr>\n",
       "    <tr>\n",
       "      <th>2</th>\n",
       "      <td>-73.47</td>\n",
       "      <td>-163.28</td>\n",
       "    </tr>\n",
       "    <tr>\n",
       "      <th>3</th>\n",
       "      <td>-74.70</td>\n",
       "      <td>-177.99</td>\n",
       "    </tr>\n",
       "    <tr>\n",
       "      <th>4</th>\n",
       "      <td>-87.36</td>\n",
       "      <td>-175.06</td>\n",
       "    </tr>\n",
       "  </tbody>\n",
       "</table>\n",
       "</div>"
      ],
      "text/plain": [
       "   latitude  longitude\n",
       "0    -84.90    -169.81\n",
       "1    -80.97    -166.70\n",
       "2    -73.47    -163.28\n",
       "3    -74.70    -177.99\n",
       "4    -87.36    -175.06"
      ]
     },
     "execution_count": 4,
     "metadata": {},
     "output_type": "execute_result"
    }
   ],
   "source": [
    "\n",
    "for x in lat_zone:\n",
    "    for y in long_zone:\n",
    "        x_values = list(np.arange(x, x+20, 0.01))\n",
    "        y_values = list(np.arange(y, y+20, 0.01))\n",
    "        lat = random.sample(x_values, 50)\n",
    "        long = random.sample(y_values, 50)\n",
    "        lat_samples = [(x+dec_lat) for dec_lat in lat]\n",
    "        lon_samples = [y+dec_lon for dec_lon in long]\n",
    "        cities_df = cities_df.append(pd.DataFrame.from_dict({\"latitude\":lat, \"longitude\":long}))\n",
    "cities_df=cities_df.reset_index(drop=True)\n",
    "cities_df.head()"
   ]
  },
  {
   "cell_type": "code",
   "execution_count": null,
   "metadata": {},
   "outputs": [
    {
     "name": "stderr",
     "output_type": "stream",
     "text": [
      "/anaconda3/envs/PythonData/lib/python3.6/site-packages/ipykernel_launcher.py:7: FutureWarning: set_value is deprecated and will be removed in a future release. Please use .at[] or .iat[] accessors instead\n",
      "  import sys\n",
      "/anaconda3/envs/PythonData/lib/python3.6/site-packages/ipykernel_launcher.py:8: FutureWarning: set_value is deprecated and will be removed in a future release. Please use .at[] or .iat[] accessors instead\n",
      "  \n"
     ]
    }
   ],
   "source": [
    "# citipy to find nearest city\n",
    "cities_df[\"closest city name\"] = \"\"\n",
    "cities_df[\"closest country code\"] = \"\"\n",
    "\n",
    "for index, row in cities_df.iterrows():\n",
    "    city = citipy.nearest_city(row[\"latitude\"], row[\"longitude\"])\n",
    "    cities_df.set_value(index, \"closest city name\", city.city_name)\n",
    "    cities_df.set_value(index, \"closest country code\", city.country_code)"
   ]
  },
  {
   "cell_type": "code",
   "execution_count": null,
   "metadata": {},
   "outputs": [],
   "source": [
    "clean_cities_df = cities_df.drop(['latitude', 'longitude'], axis = 1)\n",
    "clean_cities_df = clean_cities_df.drop_duplicates()\n",
    "clean_cities_df.head()"
   ]
  },
  {
   "cell_type": "code",
   "execution_count": null,
   "metadata": {},
   "outputs": [],
   "source": [
    "selected_cities = clean_cities_df.sample(500)\n",
    "selected_cities = selected_cities.reset_index(drop=True)"
   ]
  },
  {
   "cell_type": "code",
   "execution_count": null,
   "metadata": {},
   "outputs": [],
   "source": [
    "# openweathermap api calls\n",
    "base_url = \"http://api.openweathermap.org/data/2.5/weather?\"\n",
    "\n",
    "app_id = api_key\n",
    "\n",
    "params = {\"appid\" : app_id, \"units\" : \"metric\"}\n",
    "\n",
    "query_url = base_url + \"appid=\" + app_id\n",
    "print(query_url)\n"
   ]
  },
  {
   "cell_type": "code",
   "execution_count": null,
   "metadata": {},
   "outputs": [],
   "source": [
    "# api call\n",
    "for index, row in cities_df.iterrows():\n",
    "    params[\"q\"] = f'{row[\"closest city name\"]}, {row[\"closest country code\"]}'\n",
    "    print(f'getting weather info for {params[\"q\"]}')\n",
    "    city_weather_response = requests.get(base_url, params)\n",
    "    city_weather_response = city_weather_response.json()\n",
    "    selected_cities_df.set_value(index, \"latitude\", city_weather_response.get(\"coord\", {}).get(\"latitude\"))\n",
    "    selected_cities_df.set_value(index, \"longitude\", city_weather_response.get(\"coord\", {}).get(\"longitude\"))\n",
    "    selected_cities_df.set_value(index, \"temperature\", city_weather_response.get(\"main\", {}).get(\"temp_max\"))\n",
    "    selected_cities_df.set_value(index, \"wind speed\", city_weather_response.get(\"wind\" , {}).get(\"speed\"))\n",
    "    selected_cities_df.set_value(index, \"humpidity\", city_weather_response.get(\"humidity\", {}).get(\"humidity\"))\n",
    "    selected_cities_df.set_value(index, \"cloudiness\", city_weather_response.get(\"clouds\", {}).get(\"all\"))\n",
    "    time.sleep(2)\n",
    "    \n",
    "    "
   ]
  },
  {
   "cell_type": "code",
   "execution_count": null,
   "metadata": {},
   "outputs": [],
   "source": [
    "# scatter plot info\n",
    "def set_plot_prop(x_title, x_lim, y_title):\n",
    "    plt.title(f'{y_title} vs {x_title}')\n",
    "    plt.xlabel(x_title)\n",
    "    plt.ylabel(y_title)\n",
    "    plt.grid(True)\n",
    "    plt.xlim(x_lim)\n",
    "    "
   ]
  },
  {
   "cell_type": "code",
   "execution_count": null,
   "metadata": {},
   "outputs": [],
   "source": [
    "# temp vs latitude\n",
    "selected_cities_df.plot(kind=\"scatter\", x=\"latitude\", y=\"temperature\", gride=True, color=\"blue\")\n",
    "set_plot_prop(\"latitude\", [-90, 90], \"temperature(F)\")\n",
    "plt.axvline(0, color='black', alpha=0.5)\n",
    "plt.savefig(\"temperature vs latitude\")\n",
    "plt.show()\n"
   ]
  },
  {
   "cell_type": "code",
   "execution_count": null,
   "metadata": {},
   "outputs": [],
   "source": [
    "# humidity vs latitude\n",
    "selected_cities_df.plot(kind=\"scatter\", x=\"latitude\", y=\"humidity\", grid=True, color=\"blue\")\n",
    "set_plot_prop(\"latitude\", [-90, 90], \"humidity\")\n",
    "plt.axvline(0, color='black', alpha=0.5)\n",
    "plt.savefig(\"humidity vs latitude\")\n",
    "plt.show()"
   ]
  },
  {
   "cell_type": "code",
   "execution_count": null,
   "metadata": {},
   "outputs": [],
   "source": [
    "#  wind speed vs latitude\n",
    "selected_cities_df[\"wind speed\"] = pd.to_numeric(cities[\"wind speed\"])\n",
    "selected_cities_df.plot(kind=\"scatter\", x=\"latitude\", y=\"wind speed\", grid=True, color=\"blue\")\n",
    "set_plot_prop(\"latitude\", [-90, 90], \"wind speed (mph)\")\n",
    "plt.axvline(0, color='black', alpha=0.5)\n",
    "plt.savefig(\"wind speed vs latitude\")\n",
    "plt.show()\n"
   ]
  },
  {
   "cell_type": "code",
   "execution_count": null,
   "metadata": {},
   "outputs": [],
   "source": [
    "# cloudiness vs latitude\n",
    "selected_cities_df[\"cloudiness\"] = pd.to_numeric(cities[\"cloudiness\"])\n",
    "selected_cities_df.plot(kind=\"scatter\", x=\"latitude\", y=\"cloudiness\", grid=True, color=\"blue\")\n",
    "set_plot_prop(\"latitude\", [-90,90], \"cloudiness\")\n",
    "plt.axvline(0, color='black', alpha=0.5)\n",
    "plt.savefig(\"cloudiness vs latitude\")\n",
    "plt.show()\n"
   ]
  },
  {
   "cell_type": "code",
   "execution_count": null,
   "metadata": {},
   "outputs": [],
   "source": [
    "# temperature getting closer to equator\n",
    "size_temp = np.round((((cities.temperature)/100**2)*10,2))\n",
    "selected_cities.plot(kind=\"scatter\", x=\"longitude\", y=\"latitude\", grid=True, edgecolor=\"black\", c=size_temp, s=200, cmap=plt.cmY10rRd)\n",
    "plt.xlabel(\"longitude\")\n",
    "plt.ylabel(\"latitude\")\n",
    "plt.tight_layout()\n",
    "plt.title(\"temperature getting closer to equator\")\n",
    "plt.grid(True)\n",
    "plt.xlim([-200,200])\n",
    "plt.subplots_adjust(bottom=.25, left=.25)\n",
    "plt.ylim([-85,85])\n",
    "plt.axhline(0, color='black', alpha=0.5)\n",
    "plt.savefig(\"temperature getting closer to equator\")\n",
    "plt.show()\n"
   ]
  },
  {
   "cell_type": "code",
   "execution_count": null,
   "metadata": {},
   "outputs": [],
   "source": []
  }
 ],
 "metadata": {
  "kernelspec": {
   "display_name": "Python 3",
   "language": "python",
   "name": "python3"
  },
  "language_info": {
   "codemirror_mode": {
    "name": "ipython",
    "version": 3
   },
   "file_extension": ".py",
   "mimetype": "text/x-python",
   "name": "python",
   "nbconvert_exporter": "python",
   "pygments_lexer": "ipython3",
   "version": "3.6.4"
  }
 },
 "nbformat": 4,
 "nbformat_minor": 2
}
